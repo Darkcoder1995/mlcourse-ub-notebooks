{
 "cells": [
  {
   "cell_type": "code",
   "execution_count": 1,
   "metadata": {
    "collapsed": false
   },
   "outputs": [
    {
     "name": "stderr",
     "output_type": "stream",
     "text": [
      "/Users/chandola/anaconda/lib/python3.6/site-packages/sklearn/cross_validation.py:41: DeprecationWarning: This module was deprecated in version 0.18 in favor of the model_selection module into which all the refactored classes and functions are moved. Also note that the interface of the new CV iterators are different from that of this module. This module will be removed in 0.20.\n",
      "  \"This module will be removed in 0.20.\", DeprecationWarning)\n"
     ]
    }
   ],
   "source": [
    "from sklearn import linear_model\n",
    "from scipy.stats import t,laplace,norm,multivariate_normal\n",
    "import numpy as np\n",
    "import matplotlib.pyplot as plt\n",
    "from math import sqrt\n",
    "from sklearn import cross_validation\n",
    "from sklearn.datasets import load_boston\n",
    "from sklearn.preprocessing import StandardScaler\n",
    "from sklearn.linear_model import LinearRegression,Ridge,Lasso\n",
    "\n",
    "from sklearn.preprocessing import scale\n",
    "from sklearn.pipeline import Pipeline\n",
    "from sklearn.preprocessing import PolynomialFeatures\n",
    "\n",
    "%matplotlib inline"
   ]
  },
  {
   "cell_type": "markdown",
   "metadata": {},
   "source": [
    "### Ordinary Linear Regression\n",
    "We use np.polyfit with order = 1 to fit a line to the 1-D data."
   ]
  },
  {
   "cell_type": "code",
   "execution_count": 2,
   "metadata": {
    "collapsed": false
   },
   "outputs": [],
   "source": [
    "#A helper method for pretty-printing linear models\n",
    "def pretty_print_linear(coefs, intercept, names = None, sort = False):\n",
    "    if names == None:\n",
    "        names = [\"X%s\" % x for x in range(1,1+len(coefs))]\n",
    "    lst = zip(coefs, names)\n",
    "    if sort:\n",
    "        lst = sorted(lst,  key = lambda x:-np.abs(x[0]))\n",
    "    return \"%6.3f\"%intercept+\" + \" +\" + \".join(\"%6.3f * %s\" % (coef, name)\n",
    "                                   for coef, name in lst)"
   ]
  },
  {
   "cell_type": "code",
   "execution_count": 34,
   "metadata": {
    "collapsed": false
   },
   "outputs": [
    {
     "data": {
      "text/plain": [
       "<matplotlib.collections.PathCollection at 0x1c1ea2f5c0>"
      ]
     },
     "execution_count": 34,
     "metadata": {},
     "output_type": "execute_result"
    },
    {
     "data": {
      "image/png": "[encoded data removed]",
      "text/plain": [
       "<matplotlib.figure.Figure at 0x1c1e9aa208>"
      ]
     },
     "metadata": {},
     "output_type": "display_data"
    }
   ],
   "source": [
    "#generate some data\n",
    "x = np.arange(20)\n",
    "w = np.array([-3.8,0.11])\n",
    "y = w[0] + w[1]*x\n",
    "sigma2 = 0.1\n",
    "y = y + np.random.normal(0,sqrt(sigma2),x.shape[0])\n",
    "plt.scatter(x,y)\n"
   ]
  },
  {
   "cell_type": "code",
   "execution_count": 35,
   "metadata": {
    "collapsed": false
   },
   "outputs": [
    {
     "name": "stdout",
     "output_type": "stream",
     "text": [
      "-3.775 +  0.102 * X1\n"
     ]
    }
   ],
   "source": [
    "# fit model - note that LinearRegression's fit function adds the intercept by default\n",
    "x = np.transpose(np.reshape(x,[1,len(x)]))\n",
    "y = np.transpose(np.reshape(y,[1,len(y)]))\n",
    "lr = LinearRegression()\n",
    "lr.fit(x,y)\n",
    "print(pretty_print_linear(lr.coef_,lr.intercept_))"
   ]
  },
  {
   "cell_type": "code",
   "execution_count": 36,
   "metadata": {
    "collapsed": false
   },
   "outputs": [
    {
     "data": {
      "text/plain": [
       "[<matplotlib.lines.Line2D at 0x1c1e9acf98>]"
      ]
     },
     "execution_count": 36,
     "metadata": {},
     "output_type": "execute_result"
    },
    {
     "data": {
      "image/png": "[encoded data removed]",
      "text/plain": [
       "<matplotlib.figure.Figure at 0x1c1e9acf60>"
      ]
     },
     "metadata": {},
     "output_type": "display_data"
    }
   ],
   "source": [
    "xtest = np.transpose(np.reshape(range(25),[1,len(range(25))]))\n",
    "ytest = lr.predict(xtest)\n",
    "plt.scatter(x,y)\n",
    "plt.plot(xtest,ytest, color=\"red\")"
   ]
  },
  {
   "cell_type": "markdown",
   "metadata": {},
   "source": [
    "### Impact of outliers\n",
    "OLE is susceptible to outliers because of the square term in the loss function. For Bayesian regression, the issue arises because of the square term in the pdf of the Gaussian distribution. See below for alternate distributions."
   ]
  },
  {
   "cell_type": "code",
   "execution_count": 37,
   "metadata": {
    "collapsed": false
   },
   "outputs": [
    {
     "data": {
      "text/plain": [
       "<matplotlib.collections.PathCollection at 0x1c1ec86278>"
      ]
     },
     "execution_count": 37,
     "metadata": {},
     "output_type": "execute_result"
    },
    {
     "data": {
      "image/png": "[encoded data removed]",
      "text/plain": [
       "<matplotlib.figure.Figure at 0x1c1eb036d8>"
      ]
     },
     "metadata": {},
     "output_type": "display_data"
    }
   ],
   "source": [
    "# adding outliers\n",
    "y[19] = -3*y[0]\n",
    "plt.scatter(x,y)"
   ]
  },
  {
   "cell_type": "code",
   "execution_count": 38,
   "metadata": {
    "collapsed": false
   },
   "outputs": [
    {
     "name": "stdout",
     "output_type": "stream",
     "text": [
      "-4.833 +  0.279 * X1\n"
     ]
    }
   ],
   "source": [
    "# fit model - note that LinearRegression's fit function adds the intercept by default\n",
    "x = np.transpose(np.reshape(x,[1,len(x)]))\n",
    "y = np.transpose(np.reshape(y,[1,len(y)]))\n",
    "lr = LinearRegression()\n",
    "lr.fit(x,y)\n",
    "print(pretty_print_linear(lr.coef_,lr.intercept_))\n"
   ]
  },
  {
   "cell_type": "code",
   "execution_count": 39,
   "metadata": {
    "collapsed": false
   },
   "outputs": [
    {
     "data": {
      "text/plain": [
       "[<matplotlib.lines.Line2D at 0x1c1eca8518>]"
      ]
     },
     "execution_count": 39,
     "metadata": {},
     "output_type": "execute_result"
    },
    {
     "data": {
      "image/png": "[encoded data removed]",
      "text/plain": [
       "<matplotlib.figure.Figure at 0x1c1eca8320>"
      ]
     },
     "metadata": {},
     "output_type": "display_data"
    }
   ],
   "source": [
    "xtest = np.transpose(np.reshape(range(25),[1,len(range(25))]))\n",
    "ytest = lr.predict(xtest)\n",
    "plt.scatter(x,y)\n",
    "plt.plot(xtest, ytest, color=\"red\")"
   ]
  },
  {
   "cell_type": "code",
   "execution_count": 10,
   "metadata": {
    "collapsed": false
   },
   "outputs": [
    {
     "data": {
      "text/plain": [
       "(-5, 5)"
      ]
     },
     "execution_count": 10,
     "metadata": {},
     "output_type": "execute_result"
    },
    {
     "data": {
      "image/png": "[encoded data removed]",
      "text/plain": [
       "<matplotlib.figure.Figure at 0x11855bcf8>"
      ]
     },
     "metadata": {},
     "output_type": "display_data"
    }
   ],
   "source": [
    "rng = np.random.RandomState(0)\n",
    "# Generate sample data\n",
    "np.random.seed(0)\n",
    "n_samples = 30\n",
    "true_fun = lambda X: np.cos(1.5 * np.pi * X)\n",
    "X = np.sort(np.random.rand(n_samples))\n",
    "y = true_fun(X) + np.random.randn(n_samples) * 0.2\n",
    "X = X[:,np.newaxis]\n",
    "# Learn linear regression model\n",
    "lrmodel = LinearRegression()\n",
    "lrmodel.fit(X,y)\n",
    "# Do polynomial basis expansion\n",
    "polynomial_features = PolynomialFeatures(degree=35,include_bias=False)\n",
    "# fit linear model on expanded features\n",
    "lrmodel1 = LinearRegression()\n",
    "pipeline = Pipeline([(\"polynomial_features\", polynomial_features),\n",
    "                     (\"linear_regression\", lrmodel1)])\n",
    "pipeline.fit(X,y)\n",
    "X_all = np.linspace(0, 1, 100)\n",
    "plt.plot(X_all, pipeline.predict(X_all[:, np.newaxis]),color='k',label='')\n",
    "plt.scatter(X,y, c='k', label='data')\n",
    "plt.ylim([-5,5])"
   ]
  },
  {
   "cell_type": "markdown",
   "metadata": {},
   "source": [
    "### Using robust regression\n",
    "The statsmodels package has a robust linear regression model function (rlm) "
   ]
  },
  {
   "cell_type": "code",
   "execution_count": 40,
   "metadata": {
    "collapsed": false
   },
   "outputs": [
    {
     "name": "stdout",
     "output_type": "stream",
     "text": [
      "-3.759 +  0.103 * X1\n"
     ]
    }
   ],
   "source": [
    "import statsmodels.api as sm\n",
    "x1 = np.transpose(np.vstack([np.ones(x.shape[0]),x.flatten()]))\n",
    "# Fit model and print summary\n",
    "rlm_model = sm.RLM(y, x1, M=sm.robust.norms.HuberT())\n",
    "w = rlm_model.fit()\n",
    "w =  w.params\n",
    "print(pretty_print_linear(w[1:],w[0]))\n"
   ]
  },
  {
   "cell_type": "code",
   "execution_count": 41,
   "metadata": {
    "collapsed": false
   },
   "outputs": [
    {
     "data": {
      "text/plain": [
       "[<matplotlib.lines.Line2D at 0x1c1ee624a8>]"
      ]
     },
     "execution_count": 41,
     "metadata": {},
     "output_type": "execute_result"
    },
    {
     "data": {
      "image/png": "[encoded data removed]",
      "text/plain": [
       "<matplotlib.figure.Figure at 0x1c1ee62518>"
      ]
     },
     "metadata": {},
     "output_type": "display_data"
    }
   ],
   "source": [
    "xtest = np.transpose(np.reshape(range(25),[1,len(range(25))]))\n",
    "ytest = w[0] + w[1]*xtest\n",
    "plt.scatter(x,y)\n",
    "plt.plot(xtest, ytest, color=\"red\")"
   ]
  },
  {
   "cell_type": "markdown",
   "metadata": {},
   "source": [
    "### Handling outliers using other distributions\n",
    "Below are some alternate distributions with less fat tail than Gaussian."
   ]
  },
  {
   "cell_type": "markdown",
   "metadata": {},
   "source": [
    "#### Laplace distribution\n",
    "The distribution is defined using two parameters: $\\mu$ and $b$. You can compute the <i>density</i> using the <b>probability density function</b>:\n",
    "$$p(x) = \\frac{1}{2b}\\exp\\left(-\\frac{\\vert x - \\mu\\vert}{b}\\right)$$\n",
    "\n",
    "#### Student-t distribution\n",
    "The distribution is defined using one parameter: $\\nu$ or degrees of freedom. You can compute the <i>density</i> using the <b>probability density function</b>:\n",
    "$$p(x) = \\frac{\\Gamma\\left(\\frac{\\nu + 1}{2}\\right)}{\\sqrt{\\nu\\pi}{\\Gamma\\left(\\frac{\\nu}{2}\\right)}}\\left(1 + \\frac{x^2}{\\nu}\\right)^{-\\frac{\\nu+1}{2}}$$\n"
   ]
  },
  {
   "cell_type": "code",
   "execution_count": 30,
   "metadata": {
    "collapsed": false
   },
   "outputs": [
    {
     "data": {
      "text/plain": [
       "<matplotlib.legend.Legend at 0x1199375c0>"
      ]
     },
     "execution_count": 30,
     "metadata": {},
     "output_type": "execute_result"
    },
    {
     "data": {
      "image/png": "[encoded data removed]",
      "text/plain": [
       "<matplotlib.figure.Figure at 0x1198f1080>"
      ]
     },
     "metadata": {},
     "output_type": "display_data"
    }
   ],
   "source": [
    "# comparing student-t, norm, laplace\n",
    "s = np.linspace(-10,10, 100)\n",
    "df = 2.74335149908\n",
    "plt.plot(s, laplace.pdf(s),'r-', lw=2, alpha=0.6, label='Laplace pdf')#assuming b = 1 and \\mu = 0\n",
    "#plt.plot(s, t.pdf(s,df),'b-', lw=2, alpha=0.6, label='Student-t pdf')#nu = df\n",
    "plt.plot(s, norm.pdf(s,0,2),'k-', lw=2, alpha=0.6, label='Gaussian pdf')\n",
    "plt.legend()"
   ]
  },
  {
   "cell_type": "markdown",
   "metadata": {},
   "source": [
    "### Demonstrating Overfitting with Linear Regression\n",
    "Also how to control the overfitting using Ridge Regression"
   ]
  },
  {
   "cell_type": "code",
   "execution_count": 9,
   "metadata": {
    "collapsed": false
   },
   "outputs": [
    {
     "data": {
      "text/plain": [
       "<matplotlib.legend.Legend at 0x11ba139e8>"
      ]
     },
     "execution_count": 9,
     "metadata": {},
     "output_type": "execute_result"
    },
    {
     "data": {
      "image/png": "[encoded data removed]",
      "text/plain": [
       "<matplotlib.figure.Figure at 0x11b701160>"
      ]
     },
     "metadata": {},
     "output_type": "display_data"
    }
   ],
   "source": [
    "rng = np.random.RandomState(0)\n",
    "# Generate sample data\n",
    "np.random.seed(0)\n",
    "n_samples = 30\n",
    "true_fun = lambda X: np.cos(1.5 * np.pi * X)\n",
    "X = np.sort(np.random.rand(n_samples))\n",
    "y = true_fun(X) + np.random.randn(n_samples) * 0.2\n",
    "X = X[:,np.newaxis]\n",
    "# Learn linear regression model\n",
    "lrmodel = LinearRegression()\n",
    "lrmodel.fit(X,y)\n",
    "# Do polynomial basis expansion\n",
    "polynomial_features = PolynomialFeatures(degree=20,include_bias=False)\n",
    "# fit linear model on expanded features\n",
    "lrmodel1 = LinearRegression()\n",
    "pipeline = Pipeline([(\"polynomial_features\", polynomial_features),\n",
    "                     (\"linear_regression\", lrmodel1)])\n",
    "pipeline.fit(X,y)\n",
    "# fit ridge regression model on expanded features\n",
    "rrmodel = Ridge(alpha=2)\n",
    "pipeline1 = Pipeline([(\"polynomial_features\", polynomial_features),\n",
    "                     (\"ridge_regression\", rrmodel)])\n",
    "pipeline1.fit(X,y)\n",
    "\n",
    "# plot the fitted lines\n",
    "X_all = np.linspace(0, 1, 100)\n",
    "fig = plt.figure(figsize=[12,8])\n",
    "plt.subplot(2,2,1)\n",
    "plt.plot(X_all, lrmodel.predict(X_all[:, np.newaxis]),color='k',label='')\n",
    "plt.scatter(X,y, c='k', label='data')\n",
    "plt.legend()\n",
    "plt.subplot(2,2,2)\n",
    "plt.plot(X_all, pipeline.predict(X_all[:, np.newaxis]),color='r')\n",
    "plt.scatter(X,y, c='k', label='data')\n",
    "#plt.ylim([-10,20])\n",
    "plt.legend()\n",
    "plt.subplot(2,2,3)\n",
    "plt.plot(X_all, pipeline1.predict(X_all[:, np.newaxis]),color='b')\n",
    "plt.scatter(X,y, c='k', label='data')\n",
    "plt.legend()"
   ]
  },
  {
   "cell_type": "markdown",
   "metadata": {},
   "source": [
    "### Using Ridge Regression to Control Impact of correlated variables"
   ]
  },
  {
   "cell_type": "code",
   "execution_count": 11,
   "metadata": {
    "collapsed": false
   },
   "outputs": [
    {
     "name": "stdout",
     "output_type": "stream",
     "text": [
      " 0.033 +  0.984 * X1 +  1.995 * X2 + -0.041 * X3\n"
     ]
    }
   ],
   "source": [
    "np.random.seed(0)\n",
    "size = 5000\n",
    " \n",
    "#A dataset with 3 features\n",
    "X = np.random.normal(0, 1, (size, 3))\n",
    "#Y = X0 + 2*X1 + noise\n",
    "Y = X[:,0] + 2*X[:,1] + np.random.normal(0, 2, size)\n",
    "lr = LinearRegression()\n",
    "lr.fit(X, Y)\n",
    "print(pretty_print_linear(lr.coef_,lr.intercept_))"
   ]
  },
  {
   "cell_type": "code",
   "execution_count": 15,
   "metadata": {
    "collapsed": false
   },
   "outputs": [
    {
     "name": "stdout",
     "output_type": "stream",
     "text": [
      "Linear model: -0.184 + -0.047 * X1 +  1.312 * X2 +  1.621 * X3\n",
      "Linear model: -0.018 +  0.747 * X1 +  1.109 * X2 +  1.079 * X3\n",
      "Linear model:  0.251 + -0.098 * X1 +  1.049 * X2 +  1.940 * X3\n",
      "Linear model: -0.145 +  1.348 * X1 +  1.636 * X2 +  0.039 * X3\n",
      "Linear model:  0.093 +  0.957 * X1 +  1.637 * X2 +  0.391 * X3\n",
      "Linear model:  0.149 +  0.764 * X1 +  0.698 * X2 +  1.569 * X3\n",
      "Linear model:  0.013 +  1.425 * X1 +  1.720 * X2 + -0.071 * X3\n",
      "Linear model: -0.128 +  2.004 * X1 +  1.464 * X2 + -0.658 * X3\n",
      "Linear model:  0.045 + -0.640 * X1 +  0.738 * X2 +  2.955 * X3\n",
      "Linear model:  0.009 +  2.016 * X1 + -0.784 * X2 +  1.828 * X3\n"
     ]
    }
   ],
   "source": [
    "# adding correlated variables\n",
    "size = 100\n",
    "X_seed = np.random.normal(0, 1, size)\n",
    "for i in range(10):\n",
    "    np.random.seed(seed=i)\n",
    "    X1 = X_seed + np.random.normal(0, .1, size)\n",
    "    X2 = X_seed + np.random.normal(0, .1, size)\n",
    "    X3 = X_seed + np.random.normal(0, .1, size)\n",
    "    Y = X1 + X2 + X3 + np.random.normal(0, 1, size)\n",
    "    X = np.array([X1, X2, X3]).T\n",
    " \n",
    "    lr = LinearRegression()\n",
    "    lr.fit(X,Y)\n",
    "    print(\"Linear model:\", pretty_print_linear(lr.coef_,lr.intercept_))\n",
    " "
   ]
  },
  {
   "cell_type": "code",
   "execution_count": 19,
   "metadata": {
    "collapsed": false
   },
   "outputs": [
    {
     "name": "stdout",
     "output_type": "stream",
     "text": [
      "Ridge model: -0.186 +  0.852 * X1 +  0.958 * X2 +  0.970 * X3\n",
      "Ridge model: -0.012 +  0.926 * X1 +  0.958 * X2 +  0.960 * X3\n",
      "Ridge model:  0.250 +  0.832 * X1 +  0.931 * X2 +  1.017 * X3\n",
      "Ridge model: -0.171 +  1.005 * X1 +  1.028 * X2 +  0.891 * X3\n",
      "Ridge model:  0.090 +  0.965 * X1 +  1.024 * X2 +  0.899 * X3\n",
      "Ridge model:  0.144 +  0.960 * X1 +  0.951 * X2 +  1.027 * X3\n",
      "Ridge model: -0.001 +  1.037 * X1 +  1.056 * X2 +  0.894 * X3\n",
      "Ridge model: -0.127 +  1.031 * X1 +  0.943 * X2 +  0.775 * X3\n",
      "Ridge model:  0.028 +  0.808 * X1 +  0.988 * X2 +  1.166 * X3\n",
      "Ridge model:  0.011 +  1.083 * X1 +  0.831 * X2 +  1.035 * X3\n"
     ]
    }
   ],
   "source": [
    "# handling correlated variables through Ridge Regression\n",
    "size = 100\n",
    "X_seed = np.random.normal(0, 1, size)\n",
    "for i in range(10):\n",
    "    np.random.seed(seed=i)\n",
    "    X1 = X_seed + np.random.normal(0, .1, size)\n",
    "    X2 = X_seed + np.random.normal(0, .1, size)\n",
    "    X3 = X_seed + np.random.normal(0, .1, size)\n",
    "    Y = X1 + X2 + X3 + np.random.normal(0, 1, size)\n",
    "    X = np.array([X1, X2, X3]).T\n",
    " \n",
    "    ridge = Ridge(alpha=10)\n",
    "    ridge.fit(X,Y)\n",
    "    print(\"Ridge model:\", pretty_print_linear(ridge.coef_,ridge.intercept_))\n"
   ]
  },
  {
   "cell_type": "code",
   "execution_count": 22,
   "metadata": {
    "collapsed": false
   },
   "outputs": [
    {
     "name": "stdout",
     "output_type": "stream",
     "text": [
      "Lasso model: -0.249 +  0.000 * X1 +  0.000 * X2 +  0.973 * X3\n",
      "Lasso model: -0.074 +  0.000 * X1 +  0.000 * X2 +  0.705 * X3\n",
      "Lasso model:  0.167 +  0.000 * X1 +  0.000 * X2 +  0.805 * X3\n",
      "Lasso model: -0.232 +  0.000 * X1 +  0.807 * X2 +  0.000 * X3\n",
      "Lasso model:  0.033 +  0.836 * X1 +  0.000 * X2 +  0.000 * X3\n",
      "Lasso model:  0.066 +  0.980 * X1 +  0.000 * X2 +  0.000 * X3\n",
      "Lasso model: -0.073 +  0.000 * X1 +  0.000 * X2 +  0.707 * X3\n",
      "Lasso model: -0.215 +  0.254 * X1 +  0.172 * X2 +  0.382 * X3\n",
      "Lasso model: -0.049 +  0.193 * X1 +  0.344 * X2 +  0.335 * X3\n",
      "Lasso model: -0.045 +  0.837 * X1 +  0.000 * X2 +  0.000 * X3\n"
     ]
    }
   ],
   "source": [
    "# handling correlated variables through Ridge Regression\n",
    "size = 100\n",
    "X_seed = np.random.normal(0, 1, size)\n",
    "for i in range(10):\n",
    "    np.random.seed(seed=i)\n",
    "    X1 = X_seed + np.random.normal(0, .1, size)\n",
    "    X2 = X_seed + np.random.normal(0, .1, size)\n",
    "    X3 = X_seed + np.random.normal(0, .1, size)\n",
    "    Y = X1 + X2 + X3 + np.random.normal(0, 1, size)\n",
    "    X = np.array([X1, X2, X3]).T\n",
    " \n",
    "    lasso = Lasso(alpha=2)\n",
    "    lasso.fit(X,Y)\n",
    "    print(\"Lasso model:\", pretty_print_linear(lasso.coef_,lasso.intercept_))\n"
   ]
  },
  {
   "cell_type": "markdown",
   "metadata": {
    "collapsed": true
   },
   "source": [
    "### Using LASSO to control overfitting"
   ]
  },
  {
   "cell_type": "code",
   "execution_count": 20,
   "metadata": {
    "collapsed": false
   },
   "outputs": [
    {
     "data": {
      "text/plain": [
       "<matplotlib.legend.Legend at 0x119512cc0>"
      ]
     },
     "execution_count": 20,
     "metadata": {},
     "output_type": "execute_result"
    },
    {
     "data": {
      "image/png": "[encoded data removed]",
      "text/plain": [
       "<matplotlib.figure.Figure at 0x115c0ca90>"
      ]
     },
     "metadata": {},
     "output_type": "display_data"
    }
   ],
   "source": [
    "# fit LASSO on expanded features\n",
    "llmodel = Lasso(alpha=0.01)\n",
    "pipeline2 = Pipeline([(\"polynomial_features\", polynomial_features),\n",
    "                     (\"lasso_regression\", llmodel)])\n",
    "pipeline2.fit(X,y)\n",
    "# plot the fitted lines\n",
    "X_all = np.linspace(0, 1, 100)\n",
    "plt.plot(X_all, pipeline2.predict(X_all[:, np.newaxis]),label='Lasso Fit')\n",
    "plt.scatter(X,y, c='k', label='data')\n",
    "plt.legend()"
   ]
  },
  {
   "cell_type": "markdown",
   "metadata": {},
   "source": [
    "### Demonstrating the role of Lasso in inducing sparsity\n",
    "We will use the Boston housing data set to study this phenomenon"
   ]
  },
  {
   "cell_type": "code",
   "execution_count": 23,
   "metadata": {
    "collapsed": false
   },
   "outputs": [],
   "source": [
    "boston = load_boston()\n",
    "scaler = StandardScaler()\n",
    "X = scaler.fit_transform(boston[\"data\"])\n",
    "Y = boston[\"target\"]\n",
    "names = boston[\"feature_names\"]"
   ]
  },
  {
   "cell_type": "code",
   "execution_count": 26,
   "metadata": {
    "collapsed": false
   },
   "outputs": [
    {
     "name": "stdout",
     "output_type": "stream",
     "text": [
      "Cross validation error: 34.7475\n",
      "Linear regression model:  22.533 + -3.747 * LSTAT + -3.102 * DIS +  2.672 * RM +  2.652 * RAD + -2.069 * TAX + -2.061 * PTRATIO + -2.057 * NOX +  1.079 * ZN + -0.920 * CRIM +  0.857 * B +  0.683 * CHAS +  0.141 * INDUS +  0.020 * AGE\n"
     ]
    },
    {
     "name": "stderr",
     "output_type": "stream",
     "text": [
      "/Users/chandola/anaconda/lib/python3.6/site-packages/sklearn/metrics/scorer.py:100: DeprecationWarning: Scoring method mean_squared_error was renamed to neg_mean_squared_error in version 0.18 and will be removed in 0.20.\n",
      "  sample_weight=sample_weight)\n",
      "/Users/chandola/anaconda/lib/python3.6/site-packages/sklearn/metrics/scorer.py:100: DeprecationWarning: Scoring method mean_squared_error was renamed to neg_mean_squared_error in version 0.18 and will be removed in 0.20.\n",
      "  sample_weight=sample_weight)\n",
      "/Users/chandola/anaconda/lib/python3.6/site-packages/sklearn/metrics/scorer.py:100: DeprecationWarning: Scoring method mean_squared_error was renamed to neg_mean_squared_error in version 0.18 and will be removed in 0.20.\n",
      "  sample_weight=sample_weight)\n",
      "/Users/chandola/anaconda/lib/python3.6/site-packages/sklearn/metrics/scorer.py:100: DeprecationWarning: Scoring method mean_squared_error was renamed to neg_mean_squared_error in version 0.18 and will be removed in 0.20.\n",
      "  sample_weight=sample_weight)\n",
      "/Users/chandola/anaconda/lib/python3.6/site-packages/sklearn/metrics/scorer.py:100: DeprecationWarning: Scoring method mean_squared_error was renamed to neg_mean_squared_error in version 0.18 and will be removed in 0.20.\n",
      "  sample_weight=sample_weight)\n",
      "/Users/chandola/anaconda/lib/python3.6/site-packages/sklearn/metrics/scorer.py:100: DeprecationWarning: Scoring method mean_squared_error was renamed to neg_mean_squared_error in version 0.18 and will be removed in 0.20.\n",
      "  sample_weight=sample_weight)\n",
      "/Users/chandola/anaconda/lib/python3.6/site-packages/sklearn/metrics/scorer.py:100: DeprecationWarning: Scoring method mean_squared_error was renamed to neg_mean_squared_error in version 0.18 and will be removed in 0.20.\n",
      "  sample_weight=sample_weight)\n",
      "/Users/chandola/anaconda/lib/python3.6/site-packages/sklearn/metrics/scorer.py:100: DeprecationWarning: Scoring method mean_squared_error was renamed to neg_mean_squared_error in version 0.18 and will be removed in 0.20.\n",
      "  sample_weight=sample_weight)\n",
      "/Users/chandola/anaconda/lib/python3.6/site-packages/sklearn/metrics/scorer.py:100: DeprecationWarning: Scoring method mean_squared_error was renamed to neg_mean_squared_error in version 0.18 and will be removed in 0.20.\n",
      "  sample_weight=sample_weight)\n",
      "/Users/chandola/anaconda/lib/python3.6/site-packages/sklearn/metrics/scorer.py:100: DeprecationWarning: Scoring method mean_squared_error was renamed to neg_mean_squared_error in version 0.18 and will be removed in 0.20.\n",
      "  sample_weight=sample_weight)\n",
      "/Users/chandola/anaconda/lib/python3.6/site-packages/ipykernel/__main__.py:3: FutureWarning: comparison to `None` will result in an elementwise object comparison in the future.\n",
      "  app.launch_new_instance()\n"
     ]
    }
   ],
   "source": [
    "# fit linear regression\n",
    "lrmodel = Ridge(alpha=0.1)\n",
    "lrmodel.fit(X, Y)\n",
    "scores = -np.mean(cross_validation.cross_val_score(lrmodel,\n",
    "    X, Y, scoring=\"mean_squared_error\", cv=10))\n",
    "print(\"Cross validation error: %.4f\"%scores)\n",
    "print(\"Linear regression model: \", pretty_print_linear(lrmodel.coef_, lrmodel.intercept_, names, sort = True))"
   ]
  },
  {
   "cell_type": "code",
   "execution_count": 31,
   "metadata": {
    "collapsed": false
   },
   "outputs": [
    {
     "name": "stdout",
     "output_type": "stream",
     "text": [
      "Cross validation error: 34.6789\n",
      "Lasso model:  22.533 + -3.707 * LSTAT +  2.992 * RM + -1.757 * PTRATIO + -1.081 * DIS + -0.700 * NOX +  0.631 * B +  0.540 * CHAS + -0.236 * CRIM +  0.081 * ZN + -0.000 * INDUS + -0.000 * AGE +  0.000 * RAD + -0.000 * TAX\n"
     ]
    },
    {
     "name": "stderr",
     "output_type": "stream",
     "text": [
      "/Users/chandola/anaconda/lib/python3.6/site-packages/sklearn/metrics/scorer.py:100: DeprecationWarning: Scoring method mean_squared_error was renamed to neg_mean_squared_error in version 0.18 and will be removed in 0.20.\n",
      "  sample_weight=sample_weight)\n",
      "/Users/chandola/anaconda/lib/python3.6/site-packages/sklearn/metrics/scorer.py:100: DeprecationWarning: Scoring method mean_squared_error was renamed to neg_mean_squared_error in version 0.18 and will be removed in 0.20.\n",
      "  sample_weight=sample_weight)\n",
      "/Users/chandola/anaconda/lib/python3.6/site-packages/sklearn/metrics/scorer.py:100: DeprecationWarning: Scoring method mean_squared_error was renamed to neg_mean_squared_error in version 0.18 and will be removed in 0.20.\n",
      "  sample_weight=sample_weight)\n",
      "/Users/chandola/anaconda/lib/python3.6/site-packages/sklearn/metrics/scorer.py:100: DeprecationWarning: Scoring method mean_squared_error was renamed to neg_mean_squared_error in version 0.18 and will be removed in 0.20.\n",
      "  sample_weight=sample_weight)\n",
      "/Users/chandola/anaconda/lib/python3.6/site-packages/sklearn/metrics/scorer.py:100: DeprecationWarning: Scoring method mean_squared_error was renamed to neg_mean_squared_error in version 0.18 and will be removed in 0.20.\n",
      "  sample_weight=sample_weight)\n",
      "/Users/chandola/anaconda/lib/python3.6/site-packages/sklearn/metrics/scorer.py:100: DeprecationWarning: Scoring method mean_squared_error was renamed to neg_mean_squared_error in version 0.18 and will be removed in 0.20.\n",
      "  sample_weight=sample_weight)\n",
      "/Users/chandola/anaconda/lib/python3.6/site-packages/sklearn/metrics/scorer.py:100: DeprecationWarning: Scoring method mean_squared_error was renamed to neg_mean_squared_error in version 0.18 and will be removed in 0.20.\n",
      "  sample_weight=sample_weight)\n",
      "/Users/chandola/anaconda/lib/python3.6/site-packages/sklearn/metrics/scorer.py:100: DeprecationWarning: Scoring method mean_squared_error was renamed to neg_mean_squared_error in version 0.18 and will be removed in 0.20.\n",
      "  sample_weight=sample_weight)\n",
      "/Users/chandola/anaconda/lib/python3.6/site-packages/sklearn/metrics/scorer.py:100: DeprecationWarning: Scoring method mean_squared_error was renamed to neg_mean_squared_error in version 0.18 and will be removed in 0.20.\n",
      "  sample_weight=sample_weight)\n",
      "/Users/chandola/anaconda/lib/python3.6/site-packages/sklearn/metrics/scorer.py:100: DeprecationWarning: Scoring method mean_squared_error was renamed to neg_mean_squared_error in version 0.18 and will be removed in 0.20.\n",
      "  sample_weight=sample_weight)\n",
      "/Users/chandola/anaconda/lib/python3.6/site-packages/ipykernel/__main__.py:3: FutureWarning: comparison to `None` will result in an elementwise object comparison in the future.\n",
      "  app.launch_new_instance()\n"
     ]
    }
   ],
   "source": [
    "# fit Lasso\n",
    "lasso = Lasso(alpha=0.3)\n",
    "lasso.fit(X, Y)\n",
    "scores = -np.mean(cross_validation.cross_val_score(lasso,\n",
    "    X, Y, scoring=\"mean_squared_error\", cv=10))\n",
    "print(\"Cross validation error: %.4f\"%scores)\n",
    "print(\"Lasso model: \", pretty_print_linear(lasso.coef_, lasso.intercept_, names, sort = True))"
   ]
  },
  {
   "cell_type": "code",
   "execution_count": 29,
   "metadata": {
    "collapsed": false
   },
   "outputs": [
    {
     "data": {
      "text/plain": [
       "<matplotlib.legend.Legend at 0x11984aa90>"
      ]
     },
     "execution_count": 29,
     "metadata": {},
     "output_type": "execute_result"
    },
    {
     "data": {
      "image/png": "[encoded data removed]",
      "text/plain": [
       "<matplotlib.figure.Figure at 0x1195700f0>"
      ]
     },
     "metadata": {},
     "output_type": "display_data"
    }
   ],
   "source": [
    "# comparing the two for sparsity\n",
    "fig = plt.figure(figsize=[12,6])\n",
    "plt.bar(range(1,len(lrmodel.coef_)+1),lrmodel.coef_,color='red',width=0.33,alpha=0.6)\n",
    "plt.bar(np.arange(1.33,len(lrmodel.coef_)+1),lasso.coef_,color='green',width=0.33,alpha=0.6)\n",
    "plt.legend(['Linear Regression', 'Lasso'])"
   ]
  },
  {
   "cell_type": "code",
   "execution_count": 3,
   "metadata": {
    "collapsed": false
   },
   "outputs": [],
   "source": [
    "X = np.array([10,13,9,16,7,4])\n",
    "X = X[:,np.newaxis]"
   ]
  },
  {
   "cell_type": "code",
   "execution_count": 4,
   "metadata": {
    "collapsed": true
   },
   "outputs": [],
   "source": [
    "y = np.array([25,29,27,32,18,8])\n",
    "y = y[:,np.newaxis]"
   ]
  },
  {
   "cell_type": "code",
   "execution_count": 5,
   "metadata": {
    "collapsed": false
   },
   "outputs": [],
   "source": [
    "X = np.hstack([np.ones([6,1]),X])"
   ]
  },
  {
   "cell_type": "code",
   "execution_count": 6,
   "metadata": {
    "collapsed": false
   },
   "outputs": [],
   "source": [
    "XtX = np.dot(X.transpose(),X)"
   ]
  },
  {
   "cell_type": "code",
   "execution_count": 7,
   "metadata": {
    "collapsed": false
   },
   "outputs": [],
   "source": [
    "iXtX = np.linalg.inv(XtX)"
   ]
  },
  {
   "cell_type": "code",
   "execution_count": 8,
   "metadata": {
    "collapsed": true
   },
   "outputs": [],
   "source": [
    "Xty = np.dot(X.transpose(),y)"
   ]
  },
  {
   "cell_type": "code",
   "execution_count": 9,
   "metadata": {
    "collapsed": false
   },
   "outputs": [
    {
     "name": "stdout",
     "output_type": "stream",
     "text": [
      "[[ 4.42018349]\n",
      " [ 1.90642202]]\n"
     ]
    }
   ],
   "source": [
    "w = np.dot(iXtX,Xty)\n",
    "print(w)"
   ]
  },
  {
   "cell_type": "code",
   "execution_count": 25,
   "metadata": {
    "collapsed": true
   },
   "outputs": [],
   "source": [
    "tau2 = 1000"
   ]
  },
  {
   "cell_type": "code",
   "execution_count": 10,
   "metadata": {
    "collapsed": true
   },
   "outputs": [],
   "source": [
    "# compute sigma2\n",
    "sigma2 = (1/6)*np.dot(np.transpose(y - np.dot(X,w)),y - np.dot(X,w))"
   ]
  },
  {
   "cell_type": "code",
   "execution_count": 11,
   "metadata": {
    "collapsed": false
   },
   "outputs": [
    {
     "data": {
      "text/plain": [
       "array([[ 9.45076453]])"
      ]
     },
     "execution_count": 11,
     "metadata": {},
     "output_type": "execute_result"
    }
   ],
   "source": [
    "sigma2"
   ]
  },
  {
   "cell_type": "code",
   "execution_count": 26,
   "metadata": {
    "collapsed": false
   },
   "outputs": [
    {
     "name": "stdout",
     "output_type": "stream",
     "text": [
      "[[ 4.37127544]\n",
      " [ 1.91069552]]\n"
     ]
    }
   ],
   "source": [
    "# Bayesian regression\n",
    "w_bayes = np.dot(np.linalg.inv(XtX + (sigma2/tau2)*np.eye(2)),Xty)\n",
    "print(w_bayes)"
   ]
  },
  {
   "cell_type": "code",
   "execution_count": 28,
   "metadata": {
    "collapsed": false
   },
   "outputs": [
    {
     "data": {
      "text/plain": [
       "(0, 5)"
      ]
     },
     "execution_count": 28,
     "metadata": {},
     "output_type": "execute_result"
    },
    {
     "data": {
      "image/png": "[encoded data removed]",
      "text/plain": [
       "<matplotlib.figure.Figure at 0x1172297f0>"
      ]
     },
     "metadata": {},
     "output_type": "display_data"
    }
   ],
   "source": [
    "fig = plt.figure(figsize=[6,6])\n",
    "plt.scatter(w[0],w[1])\n",
    "plt.scatter(w_bayes[0],w_bayes[1])\n",
    "plt.xlim([0,5])\n",
    "plt.ylim([0,5])"
   ]
  },
  {
   "cell_type": "code",
   "execution_count": 52,
   "metadata": {
    "collapsed": false
   },
   "outputs": [
    {
     "data": {
      "text/plain": [
       "[<matplotlib.lines.Line2D at 0x1a1d446da0>]"
      ]
     },
     "execution_count": 52,
     "metadata": {},
     "output_type": "execute_result"
    },
    {
     "data": {
      "image/png": "[encoded data removed]",
      "text/plain": [
       "<matplotlib.figure.Figure at 0x1a1d446b38>"
      ]
     },
     "metadata": {},
     "output_type": "display_data"
    }
   ],
   "source": [
    "# Non -linear regression\n",
    "plt.scatter(X,y)\n",
    "plt.plot(T,y1,'r')"
   ]
  },
  {
   "cell_type": "code",
   "execution_count": 40,
   "metadata": {
    "collapsed": false
   },
   "outputs": [
    {
     "data": {
      "text/plain": [
       "LinearRegression(copy_X=True, fit_intercept=False, n_jobs=1, normalize=False)"
      ]
     },
     "execution_count": 40,
     "metadata": {},
     "output_type": "execute_result"
    }
   ],
   "source": [
    "X1 = np.hstack([np.ones([X.shape[0],1]),X,X*X])\n",
    "mdl = LinearRegression(fit_intercept=False)\n",
    "mdl.fit(X1,y)"
   ]
  },
  {
   "cell_type": "code",
   "execution_count": 42,
   "metadata": {
    "collapsed": false
   },
   "outputs": [
    {
     "name": "stdout",
     "output_type": "stream",
     "text": [
      "[ 1.58014371 -7.35550804  5.49227367]\n"
     ]
    }
   ],
   "source": [
    "w = mdl.coef_\n",
    "print(w)"
   ]
  },
  {
   "cell_type": "code",
   "execution_count": 47,
   "metadata": {
    "collapsed": false
   },
   "outputs": [],
   "source": [
    "T = np.linspace(0,1)\n",
    "T = T[:,np.newaxis]\n",
    "T1 = np.hstack([np.ones([T.shape[0],1]),T,T*T])"
   ]
  },
  {
   "cell_type": "code",
   "execution_count": 49,
   "metadata": {
    "collapsed": false
   },
   "outputs": [],
   "source": [
    "y1 = np.dot(T1,w)"
   ]
  },
  {
   "cell_type": "code",
   "execution_count": 50,
   "metadata": {
    "collapsed": false
   },
   "outputs": [
    {
     "data": {
      "text/plain": [
       "array([ 1.58014371,  1.43231879,  1.28906887,  1.15039393,  1.01629398,\n",
       "        0.88676902,  0.76181905,  0.64144406,  0.52564407,  0.41441906,\n",
       "        0.30776904,  0.20569401,  0.10819397,  0.01526892, -0.07308115,\n",
       "       -0.15685622, -0.23605631, -0.31068141, -0.38073152, -0.44620664,\n",
       "       -0.50710677, -0.56343192, -0.61518208, -0.66235724, -0.70495742,\n",
       "       -0.74298261, -0.77643282, -0.80530803, -0.82960826, -0.84933349,\n",
       "       -0.86448374, -0.875059  , -0.88105928, -0.88248456, -0.87933485,\n",
       "       -0.87161016, -0.85931048, -0.84243581, -0.82098615, -0.7949615 ,\n",
       "       -0.76436186, -0.72918724, -0.68943763, -0.64511302, -0.59621343,\n",
       "       -0.54273886, -0.48468929, -0.42206473, -0.35486519, -0.28309066])"
      ]
     },
     "execution_count": 50,
     "metadata": {},
     "output_type": "execute_result"
    }
   ],
   "source": [
    "y1"
   ]
  }
 ],
 "metadata": {
  "kernelspec": {
   "display_name": "Python 3",
   "language": "python",
   "name": "python3"
  },
  "language_info": {
   "codemirror_mode": {
    "name": "ipython",
    "version": 3
   },
   "file_extension": ".py",
   "mimetype": "text/x-python",
   "name": "python",
   "nbconvert_exporter": "python",
   "pygments_lexer": "ipython3",
   "version": "3.6.4"
  }
 },
 "nbformat": 4,
 "nbformat_minor": 0
}
